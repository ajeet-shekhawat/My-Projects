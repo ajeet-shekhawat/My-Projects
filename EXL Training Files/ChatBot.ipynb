{
 "cells": [
  {
   "cell_type": "code",
   "execution_count": 1,
   "id": "b585b5ad-b748-4ad5-8f8b-0cf5b30aa026",
   "metadata": {},
   "outputs": [],
   "source": [
    "import nltk"
   ]
  },
  {
   "cell_type": "code",
   "execution_count": 2,
   "id": "6a7f68bb-cc04-4a63-ad6b-828c4055a7e5",
   "metadata": {},
   "outputs": [],
   "source": [
    "from nltk.chat.util import Chat, reflections"
   ]
  },
  {
   "cell_type": "code",
   "execution_count": 3,
   "id": "07502c86-33f5-4c18-b021-009713e95051",
   "metadata": {},
   "outputs": [],
   "source": [
    "reflections = {\n",
    "  \"hello\"       : \"Hi\",\n",
    "  \"i want\"      : \"you want\",\n",
    "  \"i\"          : \"you\",\n",
    "  \"i'm\"        : \"you are\",\n",
    "  \"i'd\"        : \"you would\",\n",
    "  \"i've\"       : \"you have\",\n",
    "  \"i'll\"       : \"you will\",\n",
    "  \"my\"         : \"your\",\n",
    "  \"you are\"    : \"I am\",\n",
    "  \"you were\"   : \"I was\",\n",
    "  \"you've\"     : \"I have\",\n",
    "  \"you'll\"     : \"I will\",\n",
    "  \"your\"       : \"my\",\n",
    "  \"yours\"      : \"mine\",\n",
    "  \"you\"        : \"me\",\n",
    "  \"me\"         : \"you\"\n",
    "}"
   ]
  },
  {
   "cell_type": "code",
   "execution_count": 4,
   "id": "ef5f84c6-e413-402f-8606-652a20689e40",
   "metadata": {},
   "outputs": [],
   "source": [
    "pairs = [\n",
    "    [\n",
    "        r\"my computer is slow|slow computer|performance issue\",\n",
    "        [\"Have you tried restarting your computer? It often helps to clear temporary issues.\", \n",
    "         \"You might want to check for malware or excessive background processes.\", \n",
    "         \"Consider upgrading your RAM if you are running many applications at once.\"]\n",
    "    ],\n",
    "    [\n",
    "        r\"how to install (.*)|installation issue|installing (.*)\",\n",
    "        [\"To install %1, you can download the installer from our official website and follow the on-screen instructions.\", \n",
    "         \"Make sure your system meets the minimum requirements before installing %1.\"]\n",
    "    ],\n",
    "    [\n",
    "        r\"system requirements|minimum requirements|hardware requirements\",\n",
    "        [\"Our software requires at least 4GB of RAM, 2 GHz dual-core processor, and 500MB of available disk space.\", \n",
    "         \"You can find the full list of system requirements on our support page.\"]\n",
    "    ],\n",
    "    [\n",
    "        r\"how to update (.*)|update issue|updating (.*)\",\n",
    "        [\"You can update %1 through the Help menu by selecting 'Check for Updates'.\", \n",
    "         \"Make sure you are connected to the internet before attempting to update %1.\"]\n",
    "    ],\n",
    "    [\n",
    "        r\"best practices|usage tips|how to use (.*)\",\n",
    "        [\"Make sure to regularly back up your data and keep your software updated.\", \n",
    "         \"Refer to our user manual for best practices on using %1 effectively.\"]\n",
    "    ],\n",
    "    [\n",
    "        r\"(.*) not working|issue with (.*)|problem with (.*)\",\n",
    "        [\"I'm sorry to hear that %1 is not working. Could you please provide more details?\", \n",
    "         \"Try restarting %1 and check if the issue persists. If it does, please contact our support team.\"]\n",
    "    ],\n",
    "    [\n",
    "        r\"(.*) support|human support|contact support\",\n",
    "        [\"For complex issues, please contact our support team at support@example.com or call 1-800-123-4567.\", \n",
    "         \"You can also reach out to our support team through the 'Contact Us' page on our website.\"]\n",
    "    ],\n",
    "    [\n",
    "        r\"quit|exit|bye\",\n",
    "        [\"Thank you for using our support chatbot. Have a great day!\", \"Goodbye! If you have more questions, feel free to ask.\"]\n",
    "    ],\n",
    "    [\n",
    "        r\"(.*)\",\n",
    "        [\"I'm not sure I understand your question. Could you please provide more details?\", \n",
    "         \"Can you rephrase that? I may be able to assist you better.\"]\n",
    "    ]\n",
    "]\n"
   ]
  },
  {
   "cell_type": "code",
   "execution_count": null,
   "id": "8d0ccc63-7695-4564-9c89-38f06fe22c0f",
   "metadata": {},
   "outputs": [
    {
     "name": "stdout",
     "output_type": "stream",
     "text": [
      "Hi! I am your tech support chatbot. How can I assist you today?\n",
      "\n"
     ]
    },
    {
     "name": "stdin",
     "output_type": "stream",
     "text": [
      "> system not working\n"
     ]
    },
    {
     "name": "stdout",
     "output_type": "stream",
     "text": [
      "I'm sorry to hear that system is not working. Could you please provide more details?\n"
     ]
    }
   ],
   "source": [
    "\n",
    "# Define the chatbot function\n",
    "def tech_support_chatbot():\n",
    "    print(\"Hi! I am your tech support chatbot. How can I assist you today?\\n\")\n",
    "    chat = Chat(pairs, reflections)\n",
    "    chat.converse()\n",
    "\n",
    "# Run the chatbot\n",
    "if __name__ == \"__main__\":\n",
    "    tech_support_chatbot()"
   ]
  },
  {
   "cell_type": "code",
   "execution_count": null,
   "id": "1c305287-ce96-4af1-a76f-dc30000ef164",
   "metadata": {},
   "outputs": [],
   "source": []
  }
 ],
 "metadata": {
  "kernelspec": {
   "display_name": "Python 3 (ipykernel)",
   "language": "python",
   "name": "python3"
  },
  "language_info": {
   "codemirror_mode": {
    "name": "ipython",
    "version": 3
   },
   "file_extension": ".py",
   "mimetype": "text/x-python",
   "name": "python",
   "nbconvert_exporter": "python",
   "pygments_lexer": "ipython3",
   "version": "3.8.1"
  }
 },
 "nbformat": 4,
 "nbformat_minor": 5
}
